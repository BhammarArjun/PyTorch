{
  "nbformat": 4,
  "nbformat_minor": 0,
  "metadata": {
    "colab": {
      "provenance": [],
      "gpuType": "T4",
      "authorship_tag": "ABX9TyPoSjjeiVby57RLMUWd6bUw",
      "include_colab_link": true
    },
    "kernelspec": {
      "name": "python3",
      "display_name": "Python 3"
    },
    "language_info": {
      "name": "python"
    },
    "accelerator": "GPU"
  },
  "cells": [
    {
      "cell_type": "markdown",
      "metadata": {
        "id": "view-in-github",
        "colab_type": "text"
      },
      "source": [
        "<a href=\"https://colab.research.google.com/github/BhammarArjun/PyTorch/blob/main/PyTorch6.ipynb\" target=\"_parent\"><img src=\"https://colab.research.google.com/assets/colab-badge.svg\" alt=\"Open In Colab\"/></a>"
      ]
    },
    {
      "cell_type": "code",
      "execution_count": 1,
      "metadata": {
        "id": "pw_VmnupEjVO"
      },
      "outputs": [],
      "source": [
        " import torch\n",
        " import torch.nn as nn\n",
        " import torch.nn.functional as F\n",
        "\n",
        "\n",
        " from torch.utils.data import DataLoader\n",
        " from torchvision import datasets, transforms\n",
        " from torchvision.utils import make_grid\n",
        "\n",
        "\n",
        " import numpy as np\n",
        " import pandas as pd\n",
        " from sklearn.metrics import classification_report\n",
        " import matplotlib.pyplot as plt\n",
        " %matplotlib inline"
      ]
    },
    {
      "cell_type": "code",
      "source": [
        " ## Convert MNIST Image into a tensor of 4 dim\n",
        "\n",
        " transform = transforms.ToTensor()"
      ],
      "metadata": {
        "id": "2sN3ZQMOX1NM"
      },
      "execution_count": 2,
      "outputs": []
    },
    {
      "cell_type": "code",
      "source": [
        "train_data = datasets.MNIST(root = 'cnn_data', train= True, download = True, transform = transform)"
      ],
      "metadata": {
        "colab": {
          "base_uri": "https://localhost:8080/"
        },
        "id": "4stUcAi0YJ5P",
        "outputId": "4cb5423e-0f15-4876-f45a-1e445a47b784"
      },
      "execution_count": 3,
      "outputs": [
        {
          "output_type": "stream",
          "name": "stdout",
          "text": [
            "Downloading http://yann.lecun.com/exdb/mnist/train-images-idx3-ubyte.gz\n",
            "Downloading http://yann.lecun.com/exdb/mnist/train-images-idx3-ubyte.gz to cnn_data/MNIST/raw/train-images-idx3-ubyte.gz\n"
          ]
        },
        {
          "output_type": "stream",
          "name": "stderr",
          "text": [
            "100%|██████████| 9912422/9912422 [00:00<00:00, 141020660.89it/s]\n"
          ]
        },
        {
          "output_type": "stream",
          "name": "stdout",
          "text": [
            "Extracting cnn_data/MNIST/raw/train-images-idx3-ubyte.gz to cnn_data/MNIST/raw\n",
            "\n",
            "Downloading http://yann.lecun.com/exdb/mnist/train-labels-idx1-ubyte.gz\n",
            "Downloading http://yann.lecun.com/exdb/mnist/train-labels-idx1-ubyte.gz to cnn_data/MNIST/raw/train-labels-idx1-ubyte.gz\n"
          ]
        },
        {
          "output_type": "stream",
          "name": "stderr",
          "text": [
            "100%|██████████| 28881/28881 [00:00<00:00, 107389799.49it/s]\n"
          ]
        },
        {
          "output_type": "stream",
          "name": "stdout",
          "text": [
            "Extracting cnn_data/MNIST/raw/train-labels-idx1-ubyte.gz to cnn_data/MNIST/raw\n",
            "\n",
            "Downloading http://yann.lecun.com/exdb/mnist/t10k-images-idx3-ubyte.gz\n",
            "Downloading http://yann.lecun.com/exdb/mnist/t10k-images-idx3-ubyte.gz to cnn_data/MNIST/raw/t10k-images-idx3-ubyte.gz\n"
          ]
        },
        {
          "output_type": "stream",
          "name": "stderr",
          "text": [
            "100%|██████████| 1648877/1648877 [00:00<00:00, 47543663.01it/s]"
          ]
        },
        {
          "output_type": "stream",
          "name": "stdout",
          "text": [
            "Extracting cnn_data/MNIST/raw/t10k-images-idx3-ubyte.gz to cnn_data/MNIST/raw\n"
          ]
        },
        {
          "output_type": "stream",
          "name": "stderr",
          "text": [
            "\n"
          ]
        },
        {
          "output_type": "stream",
          "name": "stdout",
          "text": [
            "\n",
            "Downloading http://yann.lecun.com/exdb/mnist/t10k-labels-idx1-ubyte.gz\n",
            "Downloading http://yann.lecun.com/exdb/mnist/t10k-labels-idx1-ubyte.gz to cnn_data/MNIST/raw/t10k-labels-idx1-ubyte.gz\n"
          ]
        },
        {
          "output_type": "stream",
          "name": "stderr",
          "text": [
            "100%|██████████| 4542/4542 [00:00<00:00, 6414319.45it/s]\n"
          ]
        },
        {
          "output_type": "stream",
          "name": "stdout",
          "text": [
            "Extracting cnn_data/MNIST/raw/t10k-labels-idx1-ubyte.gz to cnn_data/MNIST/raw\n",
            "\n"
          ]
        }
      ]
    },
    {
      "cell_type": "code",
      "source": [
        "test_data = datasets.MNIST(root = 'cnn_data', train= False, download = True, transform = transform)"
      ],
      "metadata": {
        "id": "NuBUa6VYYNUx"
      },
      "execution_count": 4,
      "outputs": []
    },
    {
      "cell_type": "code",
      "source": [
        "train_data"
      ],
      "metadata": {
        "colab": {
          "base_uri": "https://localhost:8080/"
        },
        "id": "DBnyvksHYq8Y",
        "outputId": "42407b68-39c2-4361-a772-7d6953544259"
      },
      "execution_count": 5,
      "outputs": [
        {
          "output_type": "execute_result",
          "data": {
            "text/plain": [
              "Dataset MNIST\n",
              "    Number of datapoints: 60000\n",
              "    Root location: cnn_data\n",
              "    Split: Train\n",
              "    StandardTransform\n",
              "Transform: ToTensor()"
            ]
          },
          "metadata": {},
          "execution_count": 5
        }
      ]
    },
    {
      "cell_type": "code",
      "source": [
        "test_data"
      ],
      "metadata": {
        "colab": {
          "base_uri": "https://localhost:8080/"
        },
        "id": "zKP1lJhTYroo",
        "outputId": "fa34973c-b5a2-4e00-976a-dd02557f6e02"
      },
      "execution_count": 6,
      "outputs": [
        {
          "output_type": "execute_result",
          "data": {
            "text/plain": [
              "Dataset MNIST\n",
              "    Number of datapoints: 10000\n",
              "    Root location: cnn_data\n",
              "    Split: Test\n",
              "    StandardTransform\n",
              "Transform: ToTensor()"
            ]
          },
          "metadata": {},
          "execution_count": 6
        }
      ]
    },
    {
      "cell_type": "code",
      "source": [
        "pwd"
      ],
      "metadata": {
        "colab": {
          "base_uri": "https://localhost:8080/",
          "height": 35
        },
        "id": "mbTzy25PYsN5",
        "outputId": "e4222506-4a58-49d4-9d1c-721ec976bff5"
      },
      "execution_count": 7,
      "outputs": [
        {
          "output_type": "execute_result",
          "data": {
            "text/plain": [
              "'/content'"
            ],
            "application/vnd.google.colaboratory.intrinsic+json": {
              "type": "string"
            }
          },
          "metadata": {},
          "execution_count": 7
        }
      ]
    },
    {
      "cell_type": "code",
      "source": [
        "ls"
      ],
      "metadata": {
        "colab": {
          "base_uri": "https://localhost:8080/"
        },
        "id": "e6GqMrmyYxRn",
        "outputId": "1bd712f4-b008-4a9e-a385-e7258435eb09"
      },
      "execution_count": 8,
      "outputs": [
        {
          "output_type": "stream",
          "name": "stdout",
          "text": [
            "\u001b[0m\u001b[01;34mcnn_data\u001b[0m/  \u001b[01;34msample_data\u001b[0m/\n"
          ]
        }
      ]
    },
    {
      "cell_type": "code",
      "source": [
        "# Create a batch\n",
        "\n",
        "\n",
        "train_loader = DataLoader(train_data, batch_size = 10, shuffle = True)\n",
        "test_loader = DataLoader(test_data, batch_size = 10, shuffle = False)"
      ],
      "metadata": {
        "id": "nF-ZCAocYx9p"
      },
      "execution_count": 9,
      "outputs": []
    },
    {
      "cell_type": "code",
      "source": [
        "## Define the CNN Network\n",
        "\n",
        "conv1 = nn.Conv2d(1,6, 3, 1)\n",
        "conv2 = nn.Conv2d(6,16, 3, 1)"
      ],
      "metadata": {
        "id": "wj4lIPgJZ23e"
      },
      "execution_count": 10,
      "outputs": []
    },
    {
      "cell_type": "code",
      "source": [
        "for i, (X_train, y_train) in enumerate(train_data):\n",
        "  break"
      ],
      "metadata": {
        "id": "iAlFGbcZaXIw"
      },
      "execution_count": 11,
      "outputs": []
    },
    {
      "cell_type": "code",
      "source": [
        "x = X_train.view(1,1,28,28)\n",
        "print(x.shape)\n",
        "x = F.relu(conv1(x))\n",
        "print(x.shape)\n",
        "x = F.relu(conv2(x))\n",
        "print(x.shape)"
      ],
      "metadata": {
        "colab": {
          "base_uri": "https://localhost:8080/"
        },
        "id": "zx2qiuLLadWy",
        "outputId": "2b8a14af-89b3-40d5-be8f-057a90862866"
      },
      "execution_count": 12,
      "outputs": [
        {
          "output_type": "stream",
          "name": "stdout",
          "text": [
            "torch.Size([1, 1, 28, 28])\n",
            "torch.Size([1, 6, 26, 26])\n",
            "torch.Size([1, 16, 24, 24])\n"
          ]
        }
      ]
    },
    {
      "cell_type": "code",
      "source": [
        "x = F.max_pool2d(x,2,2) # kernel of 2 and stride of 2\n",
        "x.shape"
      ],
      "metadata": {
        "colab": {
          "base_uri": "https://localhost:8080/"
        },
        "id": "AC_z1rT1a4XU",
        "outputId": "1f286295-1062-41c8-f339-01f29b9104f7"
      },
      "execution_count": 13,
      "outputs": [
        {
          "output_type": "execute_result",
          "data": {
            "text/plain": [
              "torch.Size([1, 16, 12, 12])"
            ]
          },
          "metadata": {},
          "execution_count": 13
        }
      ]
    },
    {
      "cell_type": "code",
      "source": [
        "## Building the entire Model\n",
        "\n",
        "\n",
        "class ConvolutionNet(nn.Module):\n",
        "  def __init__(self):\n",
        "    super().__init__()\n",
        "    self.conv1 = nn.Conv2d(1,6,3,1)\n",
        "    self.conv2 = nn.Conv2d(6,16,3,1)\n",
        "    ## Fully connected layers\n",
        "    self.fc1 = nn.Linear(5*5*16, 120)\n",
        "    self.fc2 = nn.Linear(120, 84)\n",
        "    self.fc3 = nn.Linear(84,10)\n",
        "\n",
        "  def forward(self, x):\n",
        "    x = F.relu(self.conv1(x))\n",
        "    x = F.max_pool2d(x, 2,2)\n",
        "    x = F.relu(self.conv2(x))\n",
        "    x = F.max_pool2d(x,2,2)\n",
        "\n",
        "    # Flatten\n",
        "    x = x.view(-1, 16*5*5)\n",
        "\n",
        "    #FC layer\n",
        "\n",
        "    x = F.relu(self.fc1(x))\n",
        "    x = F.relu(self.fc2(x))\n",
        "    x = self.fc3(x)\n",
        "    return F.log_softmax(x, dim=1)\n"
      ],
      "metadata": {
        "id": "ExBhaCR6a97K"
      },
      "execution_count": 14,
      "outputs": []
    },
    {
      "cell_type": "code",
      "source": [
        "torch.manual_seed(41)"
      ],
      "metadata": {
        "colab": {
          "base_uri": "https://localhost:8080/"
        },
        "id": "QcpwBy3gd4Jh",
        "outputId": "0cd6262f-2463-4e91-d951-5a91ed3d5529"
      },
      "execution_count": 15,
      "outputs": [
        {
          "output_type": "execute_result",
          "data": {
            "text/plain": [
              "<torch._C.Generator at 0x7920f029d970>"
            ]
          },
          "metadata": {},
          "execution_count": 15
        }
      ]
    },
    {
      "cell_type": "code",
      "source": [
        "# optimizer and loss function\n",
        "model = ConvolutionNet()\n",
        "loss = nn.CrossEntropyLoss()\n",
        "optimizer = torch.optim.Adam(model.parameters(), lr = 0.01)"
      ],
      "metadata": {
        "id": "5NV28DfHfiYc"
      },
      "execution_count": 24,
      "outputs": []
    },
    {
      "cell_type": "code",
      "source": [
        "import time\n",
        "\n",
        "start_time = time.time()\n",
        "\n",
        "## create variable\n",
        "epochs = 5\n",
        "training_loss = []\n",
        "testing_loss = []\n",
        "\n",
        "\n",
        "## Create foor loop\n",
        "\n",
        "for i in range(epochs):\n",
        "  batch_corr = 0\n",
        "  trn_corr = 0\n",
        "  tr_los= []\n",
        "  te_los = []\n",
        "\n",
        "  for b, (x_train, y_train) in enumerate(train_loader):\n",
        "    y_pred = model.forward(x_train)\n",
        "    l = loss(y_pred, y_train)\n",
        "    tr_los.append(l.item())\n",
        "\n",
        "    pred = torch.argmax(y_pred, dim=1)\n",
        "    batch_corr = (pred == y_train).sum()\n",
        "    trn_corr += batch_corr\n",
        "\n",
        "    optimizer.zero_grad()\n",
        "    l.backward()\n",
        "    optimizer.step()\n",
        "\n",
        "  t_batch_corr =0\n",
        "  tes_corr = 0\n",
        "\n",
        "\n",
        "  with torch.no_grad():\n",
        "    for b, (x_test, y_test) in enumerate(test_loader):\n",
        "      y_val = model(x_test)\n",
        "      l = loss(y_val, y_test)\n",
        "      te_los.append(l.item())\n",
        "\n",
        "      pred = torch.argmax(y_val, dim=1)\n",
        "      t_batch_corr = (pred == y_test).sum()\n",
        "      tes_corr += t_batch_corr\n",
        "\n",
        "  train_loss = np.mean(tr_los)\n",
        "  test_loss = np.mean(te_los)\n",
        "  training_loss.append(train_loss)\n",
        "  testing_loss.append(test_loss)\n",
        "\n",
        "\n",
        "\n",
        "  print(f\"Epoch {i}, Train_loss: {train_loss}, Test_loss: {test_loss}, Train_acc: {trn_corr/len(train_data)}, Test_acc: {tes_corr/ len(test_data)}\")\n",
        "\n",
        "current_time = time.time()\n",
        "totl = current_time - start_time\n",
        "print(f'training took : {totl/60} mins')"
      ],
      "metadata": {
        "colab": {
          "base_uri": "https://localhost:8080/"
        },
        "id": "Mg2P0d-pfvhh",
        "outputId": "23f71c50-97d4-4552-fedc-9055a8e22854"
      },
      "execution_count": 25,
      "outputs": [
        {
          "output_type": "stream",
          "name": "stdout",
          "text": [
            "Epoch 0, Train_loss: 0.2468708512983078, Test_loss: 0.15479138315863628, Train_acc: 0.9307000041007996, Test_acc: 0.9632999897003174\n",
            "Epoch 1, Train_loss: 0.18004380337729323, Test_loss: 0.16868354971004645, Train_acc: 0.9558500051498413, Test_acc: 0.9588000178337097\n",
            "Epoch 2, Train_loss: 0.16981609616734852, Test_loss: 0.16151068081037095, Train_acc: 0.9599666595458984, Test_acc: 0.9664999842643738\n",
            "Epoch 3, Train_loss: 0.17096234605140975, Test_loss: 0.11026396861554633, Train_acc: 0.9598000049591064, Test_acc: 0.9722999930381775\n",
            "Epoch 4, Train_loss: 0.16615460730843168, Test_loss: 0.12818408734836453, Train_acc: 0.9607666730880737, Test_acc: 0.967199981212616\n",
            "training took : 3.0352154850959776 mins\n"
          ]
        }
      ]
    },
    {
      "cell_type": "code",
      "source": [
        "len(train_data)"
      ],
      "metadata": {
        "colab": {
          "base_uri": "https://localhost:8080/"
        },
        "id": "Vm5GRwoxjPDB",
        "outputId": "0ab094a5-8248-43ae-c96a-b2fbdf1932b0"
      },
      "execution_count": 23,
      "outputs": [
        {
          "output_type": "execute_result",
          "data": {
            "text/plain": [
              "60000"
            ]
          },
          "metadata": {},
          "execution_count": 23
        }
      ]
    },
    {
      "cell_type": "code",
      "source": [],
      "metadata": {
        "id": "XAh_DNjEpKZe"
      },
      "execution_count": null,
      "outputs": []
    }
  ]
}