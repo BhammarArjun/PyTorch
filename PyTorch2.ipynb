{
  "nbformat": 4,
  "nbformat_minor": 0,
  "metadata": {
    "colab": {
      "provenance": [],
      "authorship_tag": "ABX9TyMkDocvYmdkJBgoRkIuxZA0",
      "include_colab_link": true
    },
    "kernelspec": {
      "name": "python3",
      "display_name": "Python 3"
    },
    "language_info": {
      "name": "python"
    }
  },
  "cells": [
    {
      "cell_type": "markdown",
      "metadata": {
        "id": "view-in-github",
        "colab_type": "text"
      },
      "source": [
        "<a href=\"https://colab.research.google.com/github/BhammarArjun/PyTorch/blob/main/PyTorch2.ipynb\" target=\"_parent\"><img src=\"https://colab.research.google.com/assets/colab-badge.svg\" alt=\"Open In Colab\"/></a>"
      ]
    },
    {
      "cell_type": "code",
      "execution_count": 1,
      "metadata": {
        "id": "TgZ_84pc1V4k"
      },
      "outputs": [],
      "source": [
        "# Tensor - Multi-dimensional Array\n",
        "# Default - float32"
      ]
    },
    {
      "cell_type": "code",
      "source": [
        "import torch\n",
        "import numpy"
      ],
      "metadata": {
        "id": "Qoz7IGsH1u12"
      },
      "execution_count": 2,
      "outputs": []
    },
    {
      "cell_type": "code",
      "source": [
        "## List data structure -- can have any type of datatype in it\n",
        "\n",
        "my_list = [1,2,3,4,5]\n",
        "print(my_list)"
      ],
      "metadata": {
        "colab": {
          "base_uri": "https://localhost:8080/"
        },
        "id": "-t_dLBGO1w_k",
        "outputId": "99424d72-5f4b-4619-d01d-7c42e5b9b8aa"
      },
      "execution_count": 4,
      "outputs": [
        {
          "output_type": "stream",
          "name": "stdout",
          "text": [
            "[1, 2, 3, 4, 5]\n"
          ]
        }
      ]
    },
    {
      "cell_type": "code",
      "source": [
        "## Numpy Array\n",
        "\n",
        "np1 = numpy.random.rand(3,4)\n",
        "print(np1)"
      ],
      "metadata": {
        "colab": {
          "base_uri": "https://localhost:8080/"
        },
        "id": "VHRd5FSZ115B",
        "outputId": "a1acd37f-df88-4e1c-e2b9-c435169b3b10"
      },
      "execution_count": 7,
      "outputs": [
        {
          "output_type": "stream",
          "name": "stdout",
          "text": [
            "[[0.69485338 0.86731914 0.88762187 0.66247422]\n",
            " [0.16335814 0.45524503 0.63154193 0.08034911]\n",
            " [0.81277062 0.85758496 0.07404047 0.46904819]]\n"
          ]
        }
      ]
    },
    {
      "cell_type": "code",
      "source": [
        "np1.dtype"
      ],
      "metadata": {
        "colab": {
          "base_uri": "https://localhost:8080/"
        },
        "id": "o0EVNanK2Omp",
        "outputId": "e7be75cd-8274-4b47-ba9e-750fc9868b72"
      },
      "execution_count": 6,
      "outputs": [
        {
          "output_type": "execute_result",
          "data": {
            "text/plain": [
              "dtype('float64')"
            ]
          },
          "metadata": {},
          "execution_count": 6
        }
      ]
    },
    {
      "cell_type": "code",
      "source": [
        "## Creating Tensors\n",
        "\n",
        "torch_2d = torch.randn(3,4)\n",
        "torch_2d"
      ],
      "metadata": {
        "colab": {
          "base_uri": "https://localhost:8080/"
        },
        "id": "y45TO9sA2QfE",
        "outputId": "0b7823d4-aacb-4ed9-f5c4-1b3fce1c4d6b"
      },
      "execution_count": 8,
      "outputs": [
        {
          "output_type": "execute_result",
          "data": {
            "text/plain": [
              "tensor([[ 0.4179, -1.0540,  0.2784, -0.3507],\n",
              "        [-0.2216,  0.4445,  0.6965, -0.2100],\n",
              "        [-0.5156,  1.2943,  0.8785,  0.7407]])"
            ]
          },
          "metadata": {},
          "execution_count": 8
        }
      ]
    },
    {
      "cell_type": "code",
      "source": [
        "tensor_3d = torch.zeros(2,3,3)\n",
        "tensor_3d"
      ],
      "metadata": {
        "colab": {
          "base_uri": "https://localhost:8080/"
        },
        "id": "6FhlAptu25QI",
        "outputId": "8cd4e6cf-3c7b-4160-e87d-413db8aa8687"
      },
      "execution_count": 11,
      "outputs": [
        {
          "output_type": "execute_result",
          "data": {
            "text/plain": [
              "tensor([[[0., 0., 0.],\n",
              "         [0., 0., 0.],\n",
              "         [0., 0., 0.]],\n",
              "\n",
              "        [[0., 0., 0.],\n",
              "         [0., 0., 0.],\n",
              "         [0., 0., 0.]]])"
            ]
          },
          "metadata": {},
          "execution_count": 11
        }
      ]
    },
    {
      "cell_type": "code",
      "source": [
        "tensor_3d.dtype"
      ],
      "metadata": {
        "colab": {
          "base_uri": "https://localhost:8080/"
        },
        "id": "y5KZlk6T3aXN",
        "outputId": "82907620-d936-46c7-ba53-f565a0e04d8b"
      },
      "execution_count": 14,
      "outputs": [
        {
          "output_type": "execute_result",
          "data": {
            "text/plain": [
              "torch.float32"
            ]
          },
          "metadata": {},
          "execution_count": 14
        }
      ]
    },
    {
      "cell_type": "code",
      "source": [
        "## Create tensor from np array\n",
        "\n",
        "torch.from_numpy(np1)"
      ],
      "metadata": {
        "colab": {
          "base_uri": "https://localhost:8080/"
        },
        "id": "1KksDBUy3Eyj",
        "outputId": "f7bf7d73-4085-44a9-e550-813647a198c3"
      },
      "execution_count": 12,
      "outputs": [
        {
          "output_type": "execute_result",
          "data": {
            "text/plain": [
              "tensor([[0.6949, 0.8673, 0.8876, 0.6625],\n",
              "        [0.1634, 0.4552, 0.6315, 0.0803],\n",
              "        [0.8128, 0.8576, 0.0740, 0.4690]], dtype=torch.float64)"
            ]
          },
          "metadata": {},
          "execution_count": 12
        }
      ]
    },
    {
      "cell_type": "code",
      "source": [
        "torch.Tensor(np1)"
      ],
      "metadata": {
        "colab": {
          "base_uri": "https://localhost:8080/"
        },
        "id": "_WYkPIhZ3Tst",
        "outputId": "1bd5208b-d5aa-4c1f-e993-caf01a445644"
      },
      "execution_count": 13,
      "outputs": [
        {
          "output_type": "execute_result",
          "data": {
            "text/plain": [
              "tensor([[0.6949, 0.8673, 0.8876, 0.6625],\n",
              "        [0.1634, 0.4552, 0.6315, 0.0803],\n",
              "        [0.8128, 0.8576, 0.0740, 0.4690]])"
            ]
          },
          "metadata": {},
          "execution_count": 13
        }
      ]
    },
    {
      "cell_type": "code",
      "source": [
        "## Tensor is for holding data for deep learning - that's it bro"
      ],
      "metadata": {
        "id": "1ZtbLagv3YsE"
      },
      "execution_count": 15,
      "outputs": []
    },
    {
      "cell_type": "code",
      "source": [
        "## Thanks, Bye"
      ],
      "metadata": {
        "id": "o7tWN2CQ39XU"
      },
      "execution_count": 16,
      "outputs": []
    }
  ]
}